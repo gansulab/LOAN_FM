{
 "cells": [
  {
   "cell_type": "code",
   "execution_count": 33,
   "metadata": {},
   "outputs": [],
   "source": [
    "#讀movie資料\n",
    "import pandas as pd\n",
    "df_train = pd.read_csv(\"train_v2.csv\")\n",
    "df_test = pd.read_csv(\"test_v2.csv\")"
   ]
  },
  {
   "cell_type": "code",
   "execution_count": 34,
   "metadata": {},
   "outputs": [],
   "source": [
    "df_train=df_train[df_train.index<10000]"
   ]
  },
  {
   "cell_type": "code",
   "execution_count": 35,
   "metadata": {},
   "outputs": [
    {
     "data": {
      "text/html": [
       "<div>\n",
       "<style scoped>\n",
       "    .dataframe tbody tr th:only-of-type {\n",
       "        vertical-align: middle;\n",
       "    }\n",
       "\n",
       "    .dataframe tbody tr th {\n",
       "        vertical-align: top;\n",
       "    }\n",
       "\n",
       "    .dataframe thead th {\n",
       "        text-align: right;\n",
       "    }\n",
       "</style>\n",
       "<table border=\"1\" class=\"dataframe\">\n",
       "  <thead>\n",
       "    <tr style=\"text-align: right;\">\n",
       "      <th></th>\n",
       "      <th>ID</th>\n",
       "      <th>user</th>\n",
       "      <th>movie</th>\n",
       "      <th>rating</th>\n",
       "    </tr>\n",
       "  </thead>\n",
       "  <tbody>\n",
       "    <tr>\n",
       "      <th>0</th>\n",
       "      <td>610739</td>\n",
       "      <td>3704</td>\n",
       "      <td>3784</td>\n",
       "      <td>3</td>\n",
       "    </tr>\n",
       "    <tr>\n",
       "      <th>1</th>\n",
       "      <td>324753</td>\n",
       "      <td>1924</td>\n",
       "      <td>802</td>\n",
       "      <td>3</td>\n",
       "    </tr>\n",
       "    <tr>\n",
       "      <th>2</th>\n",
       "      <td>808218</td>\n",
       "      <td>4837</td>\n",
       "      <td>1387</td>\n",
       "      <td>4</td>\n",
       "    </tr>\n",
       "    <tr>\n",
       "      <th>3</th>\n",
       "      <td>133808</td>\n",
       "      <td>867</td>\n",
       "      <td>1196</td>\n",
       "      <td>4</td>\n",
       "    </tr>\n",
       "    <tr>\n",
       "      <th>4</th>\n",
       "      <td>431858</td>\n",
       "      <td>2631</td>\n",
       "      <td>3072</td>\n",
       "      <td>5</td>\n",
       "    </tr>\n",
       "  </tbody>\n",
       "</table>\n",
       "</div>"
      ],
      "text/plain": [
       "       ID  user  movie  rating\n",
       "0  610739  3704   3784       3\n",
       "1  324753  1924    802       3\n",
       "2  808218  4837   1387       4\n",
       "3  133808   867   1196       4\n",
       "4  431858  2631   3072       5"
      ]
     },
     "execution_count": 35,
     "metadata": {},
     "output_type": "execute_result"
    }
   ],
   "source": [
    "df_train.head()"
   ]
  },
  {
   "cell_type": "code",
   "execution_count": 36,
   "metadata": {},
   "outputs": [],
   "source": [
    "train_features=df_train[['ID','user','movie']]\n",
    "target=df_train['rating']"
   ]
  },
  {
   "cell_type": "code",
   "execution_count": 37,
   "metadata": {},
   "outputs": [],
   "source": [
    "from sklearn.model_selection import train_test_split\n",
    "x_train,x_test,y_train,y_test=train_test_split(train_features,target,test_size=0.3,random_state=123)"
   ]
  },
  {
   "cell_type": "markdown",
   "metadata": {},
   "source": [
    "## XLearn"
   ]
  },
  {
   "cell_type": "code",
   "execution_count": null,
   "metadata": {},
   "outputs": [],
   "source": [
    "#三種FM系列資料格式（xlearn皆可吃）\n",
    "#<libsvm format>:\n",
    "#   label index_1:value_1 index_2:value_2 ... index_n:value_n\n",
    "#<CSV format>:\n",
    "#   value_1 value_2 .. value_n label\n",
    "#<libffm format>:\n",
    "#   label field_1:index_1:value_1 field_2:index_2:value_2 ..."
   ]
  },
  {
   "cell_type": "code",
   "execution_count": 6,
   "metadata": {},
   "outputs": [
    {
     "name": "stderr",
     "output_type": "stream",
     "text": [
      "/anaconda2/envs/tensorflow/lib/python2.7/site-packages/sklearn/feature_extraction/hashing.py:10: RuntimeWarning: numpy.dtype size changed, may indicate binary incompatibility. Expected 96, got 88\n",
      "  from . import _hashing\n",
      "/anaconda2/envs/tensorflow/lib/python2.7/site-packages/scipy/io/matlab/mio4.py:18: RuntimeWarning: numpy.dtype size changed, may indicate binary incompatibility. Expected 96, got 88\n",
      "  from .mio_utils import squeeze_element, chars_to_strings\n",
      "/anaconda2/envs/tensorflow/lib/python2.7/site-packages/scipy/io/matlab/mio5.py:98: RuntimeWarning: numpy.dtype size changed, may indicate binary incompatibility. Expected 96, got 88\n",
      "  from .mio5_utils import VarReader5\n",
      "/anaconda2/envs/tensorflow/lib/python2.7/site-packages/sklearn/datasets/svmlight_format.py:25: RuntimeWarning: numpy.dtype size changed, may indicate binary incompatibility. Expected 96, got 88\n",
      "  from ._svmlight_format import _load_svmlight_file\n"
     ]
    }
   ],
   "source": [
    "#看起來他的lr模型只支援0/1分類問題  但可以直接吃dataframe格式\n",
    "import xlearn as xl\n",
    "linear_model = xl.LRModel(task='binary', init=0.1,\n",
    "                          epoch=10, lr=0.1,\n",
    "                          reg_lambda=1.0, opt='sgd')\n",
    "linear_model.fit(x_train, y_train,\n",
    "                 eval_set=[x_test, y_test],\n",
    "                 is_lock_free=False)\n",
    "# Generate predictions\n",
    "y_pred = linear_model.predict(df_test)"
   ]
  },
  {
   "cell_type": "code",
   "execution_count": 6,
   "metadata": {},
   "outputs": [],
   "source": [
    "# 需把dataframe的資料轉成FFM架構他才能吃\n",
    "def convert_to_ffm(df,type,numerics,categories,features):\n",
    "    currentcode = len(numerics)\n",
    "    catdict = {}\n",
    "    catcodes = {}\n",
    "    # Flagging categorical and numerical fields\n",
    "    for x in numerics:\n",
    "         catdict[x] = 0\n",
    "    for x in categories:\n",
    "         catdict[x] = 1\n",
    "    \n",
    "    nrows = df.shape[0]\n",
    "    ncolumns = len(features)\n",
    "    with open(str(type) + \"_ffm.txt\", \"w\") as text_file:\n",
    "# Looping over rows to convert each row to libffm format\n",
    "        for n,r in enumerate(range(nrows)):\n",
    "            datastring = \"\"\n",
    "            datarow = df.iloc[r].to_dict()\n",
    "            datastring += str(int(datarow['rating']))\n",
    "             # For numerical fields, we are creating a dummy field here\n",
    "            for i, x in enumerate(catdict.keys()):\n",
    "                if(catdict[x]==0):\n",
    "                    datastring = datastring + \" \"+str(i)+\":\"+ str(i)+\":\"+ str(datarow[x])\n",
    "                else:\n",
    "            # For a new field appearing in a training example\n",
    "                    if(x not in catcodes):\n",
    "                        catcodes[x] = {}\n",
    "                        currentcode +=1\n",
    "                        catcodes[x][datarow[x]] = currentcode #encoding the feature\n",
    "            # For already encoded fields\n",
    "                    elif(datarow[x] not in catcodes[x]):\n",
    "                        currentcode +=1\n",
    "                        catcodes[x][datarow[x]] = currentcode #encoding the feature\n",
    "                    code = catcodes[x][datarow[x]]\n",
    "                    datastring = datastring + \" \"+str(i)+\":\"+ str(int(code))+\":1\"\n",
    "\n",
    "            datastring += '\\n'\n",
    "            text_file.write(datastring)"
   ]
  },
  {
   "cell_type": "code",
   "execution_count": 7,
   "metadata": {},
   "outputs": [],
   "source": [
    "train=pd.concat([x_train,y_train],axis=1)\n",
    "vali=pd.concat([x_test,y_test],axis=1)\n",
    "#找出各型態資料轉換成FFM資料格式\n",
    "num_col1 = pd.DataFrame([])\n",
    "cat_col1 = train.iloc[:,1:3]\n",
    "all_col1 = num_col1 + cat_col1\n",
    "convert_to_ffm(train,'Train',num_col1,cat_col1,all_col1)\n",
    "\n",
    "num_col2 = pd.DataFrame([])\n",
    "cat_col2 = vali.iloc[:,1:3]\n",
    "all_col2 = num_col2 + cat_col2\n",
    "convert_to_ffm(vali,'Vali',num_col2,cat_col2,all_col2)"
   ]
  },
  {
   "cell_type": "code",
   "execution_count": 8,
   "metadata": {},
   "outputs": [
    {
     "name": "stderr",
     "output_type": "stream",
     "text": [
      "/anaconda2/envs/tensorflow/lib/python2.7/site-packages/sklearn/feature_extraction/hashing.py:10: RuntimeWarning: numpy.dtype size changed, may indicate binary incompatibility. Expected 96, got 88\n",
      "  from . import _hashing\n",
      "/anaconda2/envs/tensorflow/lib/python2.7/site-packages/scipy/io/matlab/mio4.py:18: RuntimeWarning: numpy.dtype size changed, may indicate binary incompatibility. Expected 96, got 88\n",
      "  from .mio_utils import squeeze_element, chars_to_strings\n",
      "/anaconda2/envs/tensorflow/lib/python2.7/site-packages/scipy/io/matlab/mio5.py:98: RuntimeWarning: numpy.dtype size changed, may indicate binary incompatibility. Expected 96, got 88\n",
      "  from .mio5_utils import VarReader5\n",
      "/anaconda2/envs/tensorflow/lib/python2.7/site-packages/sklearn/datasets/svmlight_format.py:25: RuntimeWarning: numpy.dtype size changed, may indicate binary incompatibility. Expected 96, got 88\n",
      "  from ._svmlight_format import _load_svmlight_file\n"
     ]
    }
   ],
   "source": [
    "import xlearn as xl\n",
    "ffm_model = xl.create_fm()  # Use field-aware factorization machine\n",
    "ffm_model.setTrain(\"Train_ffm.txt\")   # Training data\n",
    "ffm_model.setValidate(\"Vali_ffm.txt\")  # Validation data\n",
    "param = {'task':'reg', 'lr':0.2, \n",
    "         'lambda':0.002, 'metric':'rmse'}\n",
    "#param = {'task':'binary', # ‘binary’ for classification, ‘reg’ for Regression\n",
    "#         'k':10,           # Size of latent factor \n",
    "#         'lr':0.1,        # Learning rate for GD\n",
    "#         'lambda':0.0002, # L2 Regularization Parameter\n",
    "#         'metric':'auc',  # Metric for monitoring validation set performance\n",
    "#         'epoch':25       # Maximum number of Epochs\n",
    "#        }\n",
    "ffm_model.fit(param,'model.out')"
   ]
  },
  {
   "cell_type": "code",
   "execution_count": 9,
   "metadata": {},
   "outputs": [],
   "source": [
    "#test資料格式也要轉\n",
    "#先加一欄都為0的rating\n",
    "import numpy as np\n",
    "r0=pd.DataFrame(np.zeros(250053),columns=['rating'])\n",
    "test=pd.concat([df_test,r0],axis=1)\n",
    "test=test[test.index<1000]"
   ]
  },
  {
   "cell_type": "code",
   "execution_count": 10,
   "metadata": {},
   "outputs": [],
   "source": [
    "#test資料格式也要轉\n",
    "num_col3 = pd.DataFrame([])\n",
    "cat_col3 = test.iloc[:,1:3]\n",
    "all_col3 = num_col3 + cat_col3\n",
    "convert_to_ffm(test,'Test',num_col3,cat_col3,all_col3)"
   ]
  },
  {
   "cell_type": "code",
   "execution_count": 74,
   "metadata": {},
   "outputs": [],
   "source": [
    "# Prediction task\n",
    "#ffm_model.setTest(\"Test_ffm.txt\")  # Test data\n",
    "ffm_model.setTest(\"Vali_ffm.txt\")  # Vali data\n",
    "#ffm_model.setSigmoid()  # Convert output to 0-1\n",
    "\n",
    "# Start to predict\n",
    "# The output result will be stored in output.txt\n",
    "ffm_model.predict(\"model.out\", \"output.txt\")"
   ]
  },
  {
   "cell_type": "code",
   "execution_count": 96,
   "metadata": {},
   "outputs": [
    {
     "data": {
      "text/plain": [
       "1.1313323384489193"
      ]
     },
     "execution_count": 96,
     "metadata": {},
     "output_type": "execute_result"
    }
   ],
   "source": [
    "s=pd.read_csv(\"output.txt\",header=None)\n",
    "s.columns=['S1']\n",
    "ss1=np.array(s.S1.tolist())\n",
    "ss2=np.array(y_test.tolist())\n",
    "#RMSE\n",
    "np.mean((ss2 - ss1) ** 2) ** 0.5"
   ]
  },
  {
   "cell_type": "markdown",
   "metadata": {},
   "source": [
    "## tffm"
   ]
  },
  {
   "cell_type": "code",
   "execution_count": 13,
   "metadata": {},
   "outputs": [
    {
     "data": {
      "text/plain": [
       "['/anaconda2/envs/tensorflow/lib/python2.7/site-packages/numpy']"
      ]
     },
     "execution_count": 13,
     "metadata": {},
     "output_type": "execute_result"
    }
   ],
   "source": [
    "np.__path__"
   ]
  },
  {
   "cell_type": "code",
   "execution_count": 41,
   "metadata": {},
   "outputs": [],
   "source": [
    "ratings = df_train['rating'].values\n",
    "df_train2 = df_train.drop('rating', axis=1).values"
   ]
  },
  {
   "cell_type": "code",
   "execution_count": 42,
   "metadata": {},
   "outputs": [],
   "source": [
    "X_tr, X_te, y_tr, y_te = train_test_split(df_train, ratings, random_state=42, test_size=0.3)"
   ]
  },
  {
   "cell_type": "code",
   "execution_count": 43,
   "metadata": {},
   "outputs": [],
   "source": [
    "# Convert data to vector format used in FM using one-hot encoding\n",
    "from sklearn.preprocessing import OneHotEncoder\n",
    "encoder = OneHotEncoder(handle_unknown='ignore').fit(X_tr)\n",
    "X_tr = encoder.transform(X_tr)\n",
    "X_te = encoder.transform(X_te)"
   ]
  },
  {
   "cell_type": "code",
   "execution_count": 39,
   "metadata": {},
   "outputs": [],
   "source": [
    "import time\n",
    "from tqdm import tqdm\n",
    "from sklearn.metrics import mean_squared_error\n",
    "from sklearn.metrics import roc_auc_score, accuracy_score"
   ]
  },
  {
   "cell_type": "code",
   "execution_count": 97,
   "metadata": {},
   "outputs": [
    {
     "name": "stderr",
     "output_type": "stream",
     "text": [
      "100%|██████████| 60/60 [00:09<00:00,  6.57epoch/s]\n"
     ]
    },
    {
     "name": "stdout",
     "output_type": "stream",
     "text": [
      "[order=3] accuracy: 0.0566666666667\n",
      "MSE: 3.17464695373\n",
      "RMSE: 1.78175389819\n"
     ]
    }
   ],
   "source": [
    "import tensorflow as tf\n",
    "from tffm import TFFMRegressor\n",
    "from sklearn.metrics import mean_squared_error\n",
    "order=3\n",
    "model = TFFMRegressor(\n",
    "    order=order, \n",
    "    rank=10, \n",
    "    optimizer=tf.train.AdamOptimizer(learning_rate=0.001), \n",
    "    n_epochs=60, \n",
    "    batch_size=500,\n",
    "    init_std=0.001,\n",
    "    reg=0.01,\n",
    "    input_type='sparse'\n",
    ")\n",
    "# translate Y from {0,1} to {-10, 10}\n",
    "model.fit(X_tr, y_tr, show_progress=True)\n",
    "predictions = model.predict(X_te)\n",
    "print('[order={}] accuracy: {}'.format(order, accuracy_score(y_te, predictions > 0)))\n",
    "print('MSE: {}'.format(mean_squared_error(y_te, predictions)))\n",
    "print('RMSE: {}'.format(np.mean((y_te - predictions) ** 2) ** 0.5))\n",
    "model.destroy()"
   ]
  },
  {
   "cell_type": "markdown",
   "metadata": {},
   "source": [
    "## pywFM"
   ]
  },
  {
   "cell_type": "code",
   "execution_count": 57,
   "metadata": {},
   "outputs": [],
   "source": [
    "import pywFM"
   ]
  },
  {
   "cell_type": "code",
   "execution_count": 58,
   "metadata": {},
   "outputs": [
    {
     "name": "stdout",
     "output_type": "stream",
     "text": [
      "/Users/gansulab/Desktop/Rec_Learning/Gansulab/libfm/bin/\n"
     ]
    }
   ],
   "source": [
    "LIBFM_PATH = '/Users/gansulab/Desktop/Rec_Learning/Gansulab/libfm/bin/'\n",
    "\n",
    "import sys\n",
    "import os\n",
    "\n",
    "sys.path.insert(0, LIBFM_PATH)\n",
    "os.environ[\"PATH\"] += os.pathsep + LIBFM_PATH\n",
    "os.environ[\"LIBFM_PATH\"] = LIBFM_PATH\n",
    "    \n",
    "print os.environ.get('LIBFM_PATH')"
   ]
  },
  {
   "cell_type": "code",
   "execution_count": 59,
   "metadata": {},
   "outputs": [
    {
     "data": {
      "text/plain": [
       "array([[0., 0., 0., ..., 0., 1., 0.],\n",
       "       [0., 0., 0., ..., 0., 0., 1.],\n",
       "       [0., 0., 0., ..., 0., 0., 0.],\n",
       "       ...,\n",
       "       [0., 0., 0., ..., 0., 0., 1.],\n",
       "       [0., 0., 0., ..., 0., 1., 0.],\n",
       "       [0., 0., 0., ..., 0., 1., 0.]])"
      ]
     },
     "execution_count": 59,
     "metadata": {},
     "output_type": "execute_result"
    }
   ],
   "source": [
    "X_tr.toarray()"
   ]
  },
  {
   "cell_type": "code",
   "execution_count": 61,
   "metadata": {},
   "outputs": [],
   "source": [
    "fm_dict_based_on_stdev = {}\n",
    "# std_dev = 0.1\n",
    "fm = pywFM.FM(task='regression', num_iter=5, init_stdev=0.1)\n",
    "fm_dict_based_on_stdev['0.1'] = fm\n",
    "\n",
    "# std_dev = 0.2\n",
    "fm = pywFM.FM(task='regression', num_iter=5, init_stdev=0.2)\n",
    "fm_dict_based_on_stdev['0.2'] = fm\n",
    "\n",
    "# std_dev = 0.5\n",
    "fm = pywFM.FM(task='regression', num_iter=5, init_stdev=0.5)\n",
    "fm_dict_based_on_stdev['0.5'] = fm\n",
    "\n",
    "# std_dev = 1.0\n",
    "fm = pywFM.FM(task='regression', num_iter=5, init_stdev=1.0)\n",
    "fm_dict_based_on_stdev['1.0'] = fm"
   ]
  },
  {
   "cell_type": "code",
   "execution_count": 67,
   "metadata": {},
   "outputs": [
    {
     "name": "stdout",
     "output_type": "stream",
     "text": [
      "1551\n"
     ]
    },
    {
     "name": "stderr",
     "output_type": "stream",
     "text": [
      "/anaconda2/envs/tensorflow/lib/python2.7/site-packages/ipykernel_launcher.py:6: DeprecationWarning: \n",
      ".ix is deprecated. Please use\n",
      ".loc for label based indexing or\n",
      ".iloc for positional indexing\n",
      "\n",
      "See the documentation here:\n",
      "http://pandas.pydata.org/pandas-docs/stable/indexing.html#ix-indexer-is-deprecated\n",
      "  \n"
     ]
    },
    {
     "name": "stdout",
     "output_type": "stream",
     "text": [
      "1526\n",
      "1543\n",
      "1543\n"
     ]
    },
    {
     "data": {
      "text/html": [
       "<div>\n",
       "<style scoped>\n",
       "    .dataframe tbody tr th:only-of-type {\n",
       "        vertical-align: middle;\n",
       "    }\n",
       "\n",
       "    .dataframe tbody tr th {\n",
       "        vertical-align: top;\n",
       "    }\n",
       "\n",
       "    .dataframe thead th {\n",
       "        text-align: right;\n",
       "    }\n",
       "</style>\n",
       "<table border=\"1\" class=\"dataframe\">\n",
       "  <thead>\n",
       "    <tr style=\"text-align: right;\">\n",
       "      <th></th>\n",
       "      <th>RMSE</th>\n",
       "    </tr>\n",
       "  </thead>\n",
       "  <tbody>\n",
       "    <tr>\n",
       "      <th>std_dev=0.1</th>\n",
       "      <td>0.455827</td>\n",
       "    </tr>\n",
       "    <tr>\n",
       "      <th>std_dev=1.0</th>\n",
       "      <td>0.788337</td>\n",
       "    </tr>\n",
       "    <tr>\n",
       "      <th>std_dev=0.2</th>\n",
       "      <td>0.322246</td>\n",
       "    </tr>\n",
       "    <tr>\n",
       "      <th>std_dev=0.5</th>\n",
       "      <td>0.419594</td>\n",
       "    </tr>\n",
       "  </tbody>\n",
       "</table>\n",
       "</div>"
      ],
      "text/plain": [
       "                 RMSE\n",
       "std_dev=0.1  0.455827\n",
       "std_dev=1.0  0.788337\n",
       "std_dev=0.2  0.322246\n",
       "std_dev=0.5  0.419594"
      ]
     },
     "execution_count": 67,
     "metadata": {},
     "output_type": "execute_result"
    }
   ],
   "source": [
    "results = pd.DataFrame()\n",
    "for ele in fm_dict_based_on_stdev:\n",
    "    fm = fm_dict_based_on_stdev[ele]\n",
    "    model = fm.run(X_tr, y_tr, X_te, y_te)\n",
    "    predictions = model.predictions\n",
    "    results.ix['std_dev=' + ele, 'RMSE'] = np.mean((y_te - predictions) ** 2) ** 0.5\n",
    "results"
   ]
  }
 ],
 "metadata": {
  "kernelspec": {
   "display_name": "Python 2",
   "language": "python",
   "name": "python2"
  },
  "language_info": {
   "codemirror_mode": {
    "name": "ipython",
    "version": 2
   },
   "file_extension": ".py",
   "mimetype": "text/x-python",
   "name": "python",
   "nbconvert_exporter": "python",
   "pygments_lexer": "ipython2",
   "version": "2.7.15"
  }
 },
 "nbformat": 4,
 "nbformat_minor": 2
}
